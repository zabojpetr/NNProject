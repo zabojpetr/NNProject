{
 "cells": [
  {
   "cell_type": "markdown",
   "metadata": {},
   "source": [
    "# Import"
   ]
  },
  {
   "cell_type": "code",
   "execution_count": null,
   "metadata": {
    "collapsed": false
   },
   "outputs": [],
   "source": [
    "%matplotlib inline\n",
    "from PIL import Image\n",
    "from os import listdir\n",
    "from os.path import isfile, join\n",
    "import numpy as np\n",
    "import time\n",
    "from sklearn.neural_network import MLPClassifier\n",
    "import matplotlib.pyplot as plt\n",
    "import random\n",
    "from tqdm import tnrange\n",
    "\n",
    "\n",
    "PATH = \"D:\\\\NN\\Images\\\\\"\n",
    "DIRS = [\"Krajina\", \"Scan\", \"Noc\", \"Interier\"]\n",
    "# DIRS = [\"Scan\", \"Noc\", \"Interier\"]\n",
    "NUMBER_OF_COLORS = 8**3\n",
    "COLOR_RATIO = int(256/(NUMBER_OF_COLORS**(1/3)))\n",
    "\n",
    "SEED = 666\n",
    "HIDDEN_LAYERS = (50, )\n",
    "TEST_RATIO = 0.10\n"
   ]
  },
  {
   "cell_type": "markdown",
   "metadata": {},
   "source": [
    "# Histogram"
   ]
  },
  {
   "cell_type": "markdown",
   "metadata": {},
   "source": [
    "Omezení barev obrázku a spočítání jejich četností."
   ]
  },
  {
   "cell_type": "code",
   "execution_count": null,
   "metadata": {
    "collapsed": false
   },
   "outputs": [],
   "source": [
    "def hist(image):\n",
    "    \n",
    "    image = image//COLOR_RATIO\n",
    "    \n",
    "    base = 256//COLOR_RATIO\n",
    "    base2 = base*base\n",
    "    \n",
    "    w = image.shape[0]\n",
    "    h = image.shape[1]\n",
    "    \n",
    "    histograms = [];\n",
    "    histograms.append(image[0:w//2,0:h//2,:].reshape(-1,3))\n",
    "    histograms.append(image[w//2:w,0:h//2,:].reshape(-1,3))\n",
    "    histograms.append(image[0:w//2,h//2:h,:].reshape(-1,3))\n",
    "    histograms.append(image[w//2:w,h//2:h,:].reshape(-1,3))\n",
    "    \n",
    "    \n",
    "    for i in range(len(histograms)):\n",
    "        histogram = histograms[i]\n",
    "        histogram = histogram[:,0] + histogram[:,1]*base + histogram[:,2]*base2\n",
    "        histogram = np.bincount(histogram)\n",
    "        histogram = np.pad(histogram, (0,NUMBER_OF_COLORS-histogram.shape[0]), mode='constant', constant_values=0)\n",
    "        histogram = histogram/(image.shape[0]*image.shape[1])\n",
    "        histograms[i] = histogram\n",
    "    \n",
    "    result = np.concatenate([histograms[0]+histograms[1], \n",
    "                            histograms[2]+histograms[3], \n",
    "                            histograms[0]+histograms[2], \n",
    "                            histograms[1]+histograms[3] ])\n",
    "    \n",
    "    return result"
   ]
  },
  {
   "cell_type": "markdown",
   "metadata": {},
   "source": [
    "# Načtení obrázků"
   ]
  },
  {
   "cell_type": "markdown",
   "metadata": {},
   "source": [
    "Načtení obrázků a vytvoření histogramů"
   ]
  },
  {
   "cell_type": "code",
   "execution_count": null,
   "metadata": {
    "collapsed": false
   },
   "outputs": [],
   "source": [
    "HISTOGRAMS = [[],[],[],[]]\n",
    "\n",
    "for i in tnrange(len(DIRS)):\n",
    "    files = [join(PATH + DIRS[i], f) for f in listdir(PATH + DIRS[i]) if isfile(join(PATH + DIRS[i], f))]\n",
    "    for file in files:        \n",
    "        image = Image.open(file)\n",
    "        im = np.array(image)\n",
    "        HISTOGRAMS[i].append(hist(im))"
   ]
  },
  {
   "cell_type": "markdown",
   "metadata": {},
   "source": [
    "# Neuronová síť"
   ]
  },
  {
   "cell_type": "markdown",
   "metadata": {},
   "source": [
    "## Nastavení sítě"
   ]
  },
  {
   "cell_type": "code",
   "execution_count": null,
   "metadata": {
    "collapsed": false
   },
   "outputs": [],
   "source": [
    "nn = MLPClassifier(\n",
    "        activation='logistic',\n",
    "        alpha=1e-5,\n",
    "        batch_size='auto',\n",
    "        beta_1=0.9,\n",
    "        beta_2=0.999,\n",
    "        early_stopping=False,\n",
    "        epsilon=1e-08,\n",
    "        hidden_layer_sizes=HIDDEN_LAYERS,\n",
    "        learning_rate='constant',\n",
    "        learning_rate_init=0.001,\n",
    "        max_iter=1000,\n",
    "        momentum=0.9,\n",
    "        nesterovs_momentum=False,\n",
    "        power_t=0.5,\n",
    "        random_state=1,\n",
    "        shuffle=True,\n",
    "        solver='adam',#adam, sgd, lbfgs\n",
    "        tol=1e-4,\n",
    "        validation_fraction=0.1,\n",
    "        # Výpis iterací\n",
    "        verbose=False,\n",
    "        # Trénování po částech\n",
    "        warm_start=True)"
   ]
  },
  {
   "cell_type": "markdown",
   "metadata": {},
   "source": [
    "## Vytvoření trénovací a testovací množiny"
   ]
  },
  {
   "cell_type": "code",
   "execution_count": null,
   "metadata": {
    "collapsed": false
   },
   "outputs": [],
   "source": [
    "random.seed(SEED)\n",
    "train_in = []\n",
    "train_out = []\n",
    "test_in = []\n",
    "test_out = []\n",
    "for d in range(len(HISTOGRAMS)):\n",
    "    for i in HISTOGRAMS[d]:\n",
    "        o = np.zeros(len(HISTOGRAMS))\n",
    "        o[d] = 1\n",
    "        if(random.random() < TEST_RATIO):\n",
    "            test_in.append(i)\n",
    "            test_out.append(o)\n",
    "        else:\n",
    "            train_in.append(i)\n",
    "            train_out.append(o)"
   ]
  },
  {
   "cell_type": "markdown",
   "metadata": {},
   "source": [
    "## Spuštění neuronové sítě"
   ]
  },
  {
   "cell_type": "code",
   "execution_count": null,
   "metadata": {
    "collapsed": false
   },
   "outputs": [],
   "source": [
    "nn.fit(np.array(train_in), np.array(train_out))\n",
    "\n",
    "test_y = nn.predict(test_in)\n",
    "\n",
    "err = sum(np.any(test_out[i]!=test_y[i]) for i in range(test_y.shape[0]))\n",
    "print(\"Chyba: \", err/test_y.shape[0]*100 ,\"% [\", err, \"/\", test_y.shape[0],\"]\")\n",
    "plt.plot(nn.loss_curve_)\n",
    "plt.show()"
   ]
  }
 ],
 "metadata": {
  "anaconda-cloud": {},
  "kernelspec": {
   "display_name": "Python [default]",
   "language": "python",
   "name": "python3"
  },
  "language_info": {
   "codemirror_mode": {
    "name": "ipython",
    "version": 3
   },
   "file_extension": ".py",
   "mimetype": "text/x-python",
   "name": "python",
   "nbconvert_exporter": "python",
   "pygments_lexer": "ipython3",
   "version": "3.5.2"
  },
  "widgets": {
   "state": {
    "0c6b5467bb7d4c52a8ab75e47ec8ea88": {
     "views": [
      {
       "cell_index": 7
      }
     ]
    }
   },
   "version": "1.2.0"
  }
 },
 "nbformat": 4,
 "nbformat_minor": 1
}
