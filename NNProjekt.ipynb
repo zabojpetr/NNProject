{
 "cells": [
  {
   "cell_type": "markdown",
   "metadata": {
    "collapsed": true
   },
   "source": [
    "# Import"
   ]
  },
  {
   "cell_type": "code",
   "execution_count": null,
   "metadata": {
    "collapsed": false
   },
   "outputs": [],
   "source": [
    "%matplotlib inline\n",
    "from PIL import Image\n",
    "import cv2\n",
    "from os import listdir\n",
    "from os.path import isfile, join\n",
    "import numpy as np\n",
    "import time\n",
    "from sklearn.neural_network import MLPClassifier\n",
    "import matplotlib.pyplot as plt\n",
    "import random\n",
    "from tqdm import tnrange, tqdm_notebook\n",
    "import scipy.io\n",
    "import math\n",
    "\n",
    "\n",
    "PATH = \"D:\\\\NN\\Images\\\\\"\n",
    "DIRS = [\"Krajina\", \"Scan\", \"Noc\", \"Interier\"]\n",
    "# DIRS = [\"test\"]\n",
    "# DIRS = [\"Scan\", \"Noc\", \"Interier\"]\n",
    "NUMBER_OF_COLORS = 16**3\n",
    "COLOR_RATIO = int(256/(NUMBER_OF_COLORS**(1/3)))\n",
    "\n",
    "SEED = 333\n",
    "HIDDEN_LAYERS = (10,)\n",
    "TEST_RATIO = 0.10\n",
    "\n",
    "NUMBER_OF_PIXELS = 0\n",
    "\n",
    "QUARTERTS = True\n"
   ]
  },
  {
   "cell_type": "markdown",
   "metadata": {},
   "source": [
    "# Histogram"
   ]
  },
  {
   "cell_type": "markdown",
   "metadata": {},
   "source": [
    "Omezení barev obrázku a spočítání jejich četností."
   ]
  },
  {
   "cell_type": "code",
   "execution_count": null,
   "metadata": {
    "collapsed": false
   },
   "outputs": [],
   "source": [
    "def hist(image):\n",
    "    \n",
    "    image = image//COLOR_RATIO\n",
    "    \n",
    "    base = 256//COLOR_RATIO\n",
    "    base2 = base*base\n",
    "    \n",
    "    w = image.shape[0]\n",
    "    h = image.shape[1]\n",
    "      \n",
    "    histograms = [];\n",
    "    histograms.append(image[0:w//2,0:h//2,:].reshape(-1,3))\n",
    "    histograms.append(image[w//2:w,0:h//2,:].reshape(-1,3))\n",
    "    histograms.append(image[0:w//2,h//2:h,:].reshape(-1,3))\n",
    "    histograms.append(image[w//2:w,h//2:h,:].reshape(-1,3))\n",
    "       \n",
    "    \n",
    "    \n",
    "    for i in range(len(histograms)):\n",
    "        histogram = histograms[i]\n",
    "        histogram = histogram[:,0] + histogram[:,1]*base + histogram[:,2]*base2\n",
    "        histogram = np.bincount(histogram)\n",
    "        histogram = np.pad(histogram, (0,NUMBER_OF_COLORS-histogram.shape[0]), mode='constant', constant_values=0)\n",
    "        histogram = histogram/(image.shape[0]*image.shape[1])\n",
    "        histograms[i] = histogram\n",
    "    \n",
    "    if QUARTERTS == False:\n",
    "        result = np.concatenate([histograms[0]+histograms[1], \n",
    "                                histograms[2]+histograms[3], \n",
    "                                histograms[0]+histograms[2], \n",
    "                                histograms[1]+histograms[3] ])\n",
    "    if QUARTERTS == True:\n",
    "        result = np.concatenate(histograms)\n",
    "    \n",
    "    return result"
   ]
  },
  {
   "cell_type": "markdown",
   "metadata": {},
   "source": [
    "# Vizualizace vstupu neuronové sítě"
   ]
  },
  {
   "cell_type": "markdown",
   "metadata": {},
   "source": [
    "Vytvoření proužku, na kterém jsou procentuálně zastoupeny barvy z obrázku"
   ]
  },
  {
   "cell_type": "code",
   "execution_count": null,
   "metadata": {
    "collapsed": false
   },
   "outputs": [],
   "source": [
    "def vizualize(histogram, name):\n",
    "    '''Proužek 1 000 × 50, tedy každý histogram má 250×50 pixelů = 12 500 pixelů na jeden histogram'''\n",
    "    image = np.zeros((50,1000,3))\n",
    "        \n",
    "    if(QUARTERTS == False):\n",
    "        histogram = histogram / 2\n",
    "    \n",
    "    pixels_for_histogram = image.shape[0]*image.shape[1]\n",
    "    \n",
    "    image = image//COLOR_RATIO\n",
    "    \n",
    "    base = 256//COLOR_RATIO\n",
    "    base2 = base*base\n",
    "    \n",
    "    position = 0;\n",
    "    \n",
    "    for i in range(histogram.size):\n",
    "        if histogram[i] == 0:\n",
    "            continue\n",
    "        col = i % (histogram.size/4)\n",
    "        \n",
    "        B = col // base2\n",
    "        G = (col-B*base2)//base\n",
    "        R = col-B*base2 - G*base\n",
    "        \n",
    "        for j in range(math.floor(pixels_for_histogram * histogram[i])):\n",
    "            image[position%50][position//50][0] = R * COLOR_RATIO + COLOR_RATIO//2\n",
    "            image[position%50][position//50][1] = G * COLOR_RATIO + COLOR_RATIO//2\n",
    "            image[position%50][position//50][2] = B * COLOR_RATIO + COLOR_RATIO//2\n",
    "            position += 1\n",
    "    \n",
    "    num = str(NUMBER_OF_COLORS**(1/3))\n",
    "    \n",
    "    if QUARTERTS == False:\n",
    "        cv2.imwrite(name + num + 'h.png', image)\n",
    "    if QUARTERTS == True:\n",
    "        cv2.imwrite(name + num + 'q.png', image)"
   ]
  },
  {
   "cell_type": "markdown",
   "metadata": {},
   "source": [
    "# Načtení obrázků"
   ]
  },
  {
   "cell_type": "markdown",
   "metadata": {},
   "source": [
    "Načtení obrázků a vytvoření histogramů"
   ]
  },
  {
   "cell_type": "code",
   "execution_count": null,
   "metadata": {
    "collapsed": false
   },
   "outputs": [],
   "source": [
    "HISTOGRAMS = [[],[],[],[]]\n",
    "\n",
    "for i in tnrange(len(DIRS)):\n",
    "    files = [join(PATH + DIRS[i], f) for f in listdir(PATH + DIRS[i]) if isfile(join(PATH + DIRS[i], f))]\n",
    "    for file in tqdm_notebook(files, leave=False):   \n",
    "        image = cv2.imread(file)\n",
    "        im = np.array(image)\n",
    "        histogram = hist(im)\n",
    "        HISTOGRAMS[i].append(histogram)\n",
    "        NUMBER_OF_PIXELS += im.shape[0]*im.shape[1]\n",
    "#         vizualize(histogram, file)\n",
    "print(NUMBER_OF_PIXELS)"
   ]
  },
  {
   "cell_type": "markdown",
   "metadata": {},
   "source": [
    "# Neuronová síť"
   ]
  },
  {
   "cell_type": "markdown",
   "metadata": {},
   "source": [
    "## Nastavení sítě"
   ]
  },
  {
   "cell_type": "code",
   "execution_count": null,
   "metadata": {
    "collapsed": false
   },
   "outputs": [],
   "source": [
    "nn = MLPClassifier(\n",
    "        activation='logistic',\n",
    "        alpha=1e-10,\n",
    "        batch_size='auto',\n",
    "        beta_1=0.9,\n",
    "        beta_2=0.999,\n",
    "        early_stopping=False,\n",
    "        epsilon=1e-08,\n",
    "        hidden_layer_sizes=HIDDEN_LAYERS,\n",
    "        learning_rate='constant',\n",
    "        learning_rate_init=0.001,\n",
    "        max_iter=50000,\n",
    "        momentum=0.9,\n",
    "        nesterovs_momentum=False,\n",
    "        power_t=0.5,\n",
    "        random_state=1,\n",
    "        shuffle=True,\n",
    "        solver='adam',#adam, sgd, lbfgs\n",
    "        tol=1e-10,\n",
    "        validation_fraction=0.1,\n",
    "        # Výpis iterací\n",
    "        verbose=False,\n",
    "        # Trénování po částech\n",
    "        warm_start=True)"
   ]
  },
  {
   "cell_type": "markdown",
   "metadata": {},
   "source": [
    "## Vytvoření trénovací a testovací množiny"
   ]
  },
  {
   "cell_type": "code",
   "execution_count": null,
   "metadata": {
    "collapsed": false
   },
   "outputs": [],
   "source": [
    "random.seed(SEED)\n",
    "train_in = []\n",
    "train_out = []\n",
    "test_in = []\n",
    "test_out = []\n",
    "for d in range(len(HISTOGRAMS)):\n",
    "    for i in HISTOGRAMS[d]:\n",
    "        o = np.zeros(len(HISTOGRAMS))\n",
    "        o[d] = 1\n",
    "        if(random.random() < TEST_RATIO):\n",
    "            test_in.append(i)\n",
    "            test_out.append(o)\n",
    "        else:\n",
    "            train_in.append(i)\n",
    "            train_out.append(o)"
   ]
  },
  {
   "cell_type": "markdown",
   "metadata": {},
   "source": [
    "## Spuštění neuronové sítě"
   ]
  },
  {
   "cell_type": "code",
   "execution_count": null,
   "metadata": {
    "collapsed": false
   },
   "outputs": [],
   "source": [
    "nn.fit(np.array(train_in), np.array(train_out))\n",
    "\n",
    "test_y = nn.predict(test_in)\n",
    "\n",
    "err = sum(np.any(test_out[i]!=test_y[i]) for i in range(test_y.shape[0]))\n",
    "print(\"Chyba: \", err/test_y.shape[0]*100 ,\"% [\", err, \"/\", test_y.shape[0],\"]\")\n",
    "plt.plot(nn.loss_curve_)\n",
    "plt.show()"
   ]
  },
  {
   "cell_type": "markdown",
   "metadata": {},
   "source": [
    "## Uložení pro Matlab"
   ]
  },
  {
   "cell_type": "code",
   "execution_count": null,
   "metadata": {
    "collapsed": false
   },
   "outputs": [],
   "source": [
    "all_in = []\n",
    "all_out = []\n",
    "for d in range(len(HISTOGRAMS)):\n",
    "    for i in HISTOGRAMS[d]:\n",
    "        o = np.zeros(len(HISTOGRAMS))\n",
    "        o[d] = 1\n",
    "        all_in.append(i)\n",
    "        all_out.append(o)\n",
    "\n",
    "scipy.io.savemat('d:\\\\NN\\\\data_in_quarter_32.mat', mdict={'data_in': all_in})\n",
    "scipy.io.savemat('d:\\\\NN\\\\data_out_quarter_32.mat', mdict={'data_out': all_out})"
   ]
  },
  {
   "cell_type": "code",
   "execution_count": null,
   "metadata": {
    "collapsed": false
   },
   "outputs": [],
   "source": [
    "print(cv2.imread('D:\\\\lines.png'))"
   ]
  }
 ],
 "metadata": {
  "anaconda-cloud": {},
  "kernelspec": {
   "display_name": "Python [default]",
   "language": "python",
   "name": "python3"
  },
  "language_info": {
   "codemirror_mode": {
    "name": "ipython",
    "version": 3
   },
   "file_extension": ".py",
   "mimetype": "text/x-python",
   "name": "python",
   "nbconvert_exporter": "python",
   "pygments_lexer": "ipython3",
   "version": "3.5.2"
  },
  "widgets": {
   "state": {
    "0403aa96bcb942e8926cadc8d4d4c12e": {
     "views": [
      {
       "cell_index": 10
      }
     ]
    },
    "187df41e568f4304b24ba2d7a12105ef": {
     "views": [
      {
       "cell_index": 10
      }
     ]
    },
    "1c0ab389b80e4ff9bd75a8de28321cd3": {
     "views": [
      {
       "cell_index": 10
      }
     ]
    },
    "218494d1f4e34f03a2dcec04ab0eee54": {
     "views": [
      {
       "cell_index": 10
      }
     ]
    },
    "22ea7daff0af4736abf450273b1c7bac": {
     "views": [
      {
       "cell_index": 10
      }
     ]
    },
    "2d3a67a75ac94a7eb28842732aa54307": {
     "views": [
      {
       "cell_index": 10
      }
     ]
    },
    "350bbc8e41af4e65b1c756c6d27a68ff": {
     "views": [
      {
       "cell_index": 10
      }
     ]
    },
    "4383d63dde734a0295a7eb8db40d8f60": {
     "views": [
      {
       "cell_index": 10
      }
     ]
    },
    "45df00f5b9f94f12a77a2cd8eaca8837": {
     "views": [
      {
       "cell_index": 10
      }
     ]
    },
    "516a5234b3104966b9d198ed48a1b0d3": {
     "views": [
      {
       "cell_index": 10
      }
     ]
    },
    "56c93d85cf1a471ea65e2ed4031d0fda": {
     "views": [
      {
       "cell_index": 10
      }
     ]
    },
    "59ab84c9fa7c48dd91014df4db8516e4": {
     "views": [
      {
       "cell_index": 10
      }
     ]
    },
    "5f29b5a9e93b4c968b98ee1d16fae848": {
     "views": [
      {
       "cell_index": 10
      }
     ]
    },
    "5f483e165dea4599977e38ca4fdbf9a3": {
     "views": [
      {
       "cell_index": 10
      }
     ]
    },
    "60c84af4d0c74ff2b55da5ceb9dcb9d9": {
     "views": [
      {
       "cell_index": 10
      }
     ]
    },
    "62d4a8fdfc944559a53268c7cb6fa480": {
     "views": [
      {
       "cell_index": 10
      }
     ]
    },
    "7b0bcee7b9f244f4b5fd1d9394c33730": {
     "views": [
      {
       "cell_index": 10
      }
     ]
    },
    "aaa6a74edbe5455c936b72c98ee1c2b5": {
     "views": [
      {
       "cell_index": 10
      }
     ]
    },
    "c143ff364f544719be17f6c6eb321911": {
     "views": [
      {
       "cell_index": 10
      }
     ]
    },
    "c3b3676e83bb4696a89988cda0b49ad2": {
     "views": [
      {
       "cell_index": 10
      }
     ]
    },
    "c4cddb762bab4b09a60e5d8a2c5d0e8a": {
     "views": [
      {
       "cell_index": 10
      }
     ]
    },
    "ce998d40d2c74032a384ba99681c1b4f": {
     "views": [
      {
       "cell_index": 10
      }
     ]
    },
    "d99d680d5f6f4ac8a3f8a1133eff793e": {
     "views": [
      {
       "cell_index": 10
      }
     ]
    },
    "e317a5f67ece41b3a12de5d91566a4af": {
     "views": [
      {
       "cell_index": 10
      }
     ]
    },
    "e5efc9bc917743438357078e168a8504": {
     "views": [
      {
       "cell_index": 10
      }
     ]
    },
    "f87a455111f84bfaa8de05a31f9bdf17": {
     "views": [
      {
       "cell_index": 10
      }
     ]
    }
   },
   "version": "1.2.0"
  }
 },
 "nbformat": 4,
 "nbformat_minor": 1
}
