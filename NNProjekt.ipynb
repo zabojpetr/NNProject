{
 "cells": [
  {
   "cell_type": "markdown",
   "metadata": {},
   "source": [
    "# Import"
   ]
  },
  {
   "cell_type": "code",
   "execution_count": 112,
   "metadata": {
    "collapsed": false
   },
   "outputs": [],
   "source": [
    "from PIL import Image\n",
    "from os import listdir\n",
    "from os.path import isfile, join\n",
    "import numpy as np\n",
    "import time\n",
    "\n",
    "\n",
    "PATH = \"D:\\\\NN\\Images\\\\\"\n",
    "DIRS = [\"Krajina\", \"Scan\", \"Noc\", \"Interier\"]\n",
    "# DIRS = [\"Scan\", \"Noc\", \"Interier\"]\n",
    "NUMBER_OF_COLORS = 512\n",
    "COLOR_RATIO = int(256/(NUMBER_OF_COLORS**(1/3)))\n",
    "\n",
    "HISTOGRAMS = [[],[],[],[]]\n"
   ]
  },
  {
   "cell_type": "markdown",
   "metadata": {},
   "source": [
    "# Načtení obrázků"
   ]
  },
  {
   "cell_type": "code",
   "execution_count": 116,
   "metadata": {
    "collapsed": false
   },
   "outputs": [
    {
     "name": "stdout",
     "output_type": "stream",
     "text": [
      "Hist :  47.79875588417053\n",
      "Hist :  51.931843757629395\n",
      "Hist :  0.005003213882446289\n"
     ]
    }
   ],
   "source": [
    "HISTOGRAMS = [[],[],[],[]]\n",
    "\n",
    "for i in range(len(DIRS)):\n",
    "    files = [join(PATH + DIRS[i], f) for f in listdir(PATH + DIRS[i]) if isfile(join(PATH + DIRS[i], f))]\n",
    "    for file in files:        \n",
    "        image = Image.open(file)\n",
    "        im = np.array(image)\n",
    "        HISTOGRAMS[i].append(hist(im))\n",
    "        \n",
    "        \n",
    "# print(HISTOGRAMS)"
   ]
  },
  {
   "cell_type": "markdown",
   "metadata": {},
   "source": [
    "# Převod na 8-bit barevnou škálu"
   ]
  },
  {
   "cell_type": "markdown",
   "metadata": {},
   "source": [
    "# Histogram"
   ]
  },
  {
   "cell_type": "code",
   "execution_count": 110,
   "metadata": {
    "collapsed": false
   },
   "outputs": [],
   "source": [
    "def hist(image):\n",
    "    start_time = time.time()\n",
    "    image = image//COLOR_RATIO\n",
    "    \n",
    "    base = 256//COLOR_RATIO\n",
    "    base2 = base*base\n",
    "    \n",
    "    h = image.reshape(-1,3)\n",
    "    h = h[:,0] + h[:,1]*base + h[:,2]*base2\n",
    "    h = np.bincount(h)\n",
    "    \n",
    "    h = h/(image.shape[0]*image.shape[1])\n",
    "    \n",
    "    \n",
    "    print(\"Hist2: \", (time.time() - start_time))\n",
    "    return h    "
   ]
  }
 ],
 "metadata": {
  "anaconda-cloud": {},
  "kernelspec": {
   "display_name": "Python [default]",
   "language": "python",
   "name": "python3"
  },
  "language_info": {
   "codemirror_mode": {
    "name": "ipython",
    "version": 3
   },
   "file_extension": ".py",
   "mimetype": "text/x-python",
   "name": "python",
   "nbconvert_exporter": "python",
   "pygments_lexer": "ipython3",
   "version": "3.5.2"
  }
 },
 "nbformat": 4,
 "nbformat_minor": 1
}
